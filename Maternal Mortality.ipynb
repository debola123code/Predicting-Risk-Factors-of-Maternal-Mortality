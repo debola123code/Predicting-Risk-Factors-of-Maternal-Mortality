{
 "cells": [
  {
   "cell_type": "code",
   "execution_count": null,
   "id": "0e2dedb2-5a07-4d09-81e8-552050dec446",
   "metadata": {},
   "outputs": [],
   "source": [
    "Introduction:\n",
    "Welcome to this notebook where we explore the relationship between different independent variables and Maternal Mortality in Nigeria. \n",
    "\n",
    "Through visualizations and code, we aim to identify potential risk factors associated with maternal mortality.\n",
    "\n",
    "In this notebook, you will find visualizations that demonstrate the relationship between various factors and maternal mortality. \n",
    "These visualizations can help us understand how different variables impact maternal health outcomes.\n",
    "\n",
    "Additionally, we have developed three predictive models using logistic regression, random forest, and decision tree techniques. \n",
    "These models are trained to predict maternal mortality based on the identified risk factors.\n",
    "\n",
    "Please take your time to review the visualizations and explore the results of each model. \n",
    "Afterwards, we kindly request that you answer the survey questions provided to gather valuable feedback on the usefulness\n",
    "and effectiveness of the predictive models in addressing maternal mortality risk factors.\n",
    "\n",
    "Please note: In this context, \"0\" represents no maternal mortality, while \"1\" indicates maternal mortality. \n",
    "Thank you for your participation and valuable insights.\n",
    "\n"
   ]
  },
  {
   "cell_type": "code",
   "execution_count": 4,
   "id": "b1474f10-6b6c-4ff9-bd6b-0897b513c23e",
   "metadata": {},
   "outputs": [
    {
     "data": {
      "text/html": [
       "<table class=\"dataframe\">\n",
       "<caption>A data.frame: 6 × 31</caption>\n",
       "<thead>\n",
       "\t<tr><th></th><th scope=col>V012</th><th scope=col>V013</th><th scope=col>V020</th><th scope=col>V024</th><th scope=col>V025</th><th scope=col>V106</th><th scope=col>V155</th><th scope=col>V190A</th><th scope=col>V208</th><th scope=col>V212</th><th scope=col>⋯</th><th scope=col>M42E</th><th scope=col>M451</th><th scope=col>M57A</th><th scope=col>M57E</th><th scope=col>M57M</th><th scope=col>MM10</th><th scope=col>MM20</th><th scope=col>MM90</th><th scope=col>MM120</th><th scope=col>Maternity_mortality</th></tr>\n",
       "\t<tr><th></th><th scope=col>&lt;dbl&gt;</th><th scope=col>&lt;chr&gt;</th><th scope=col>&lt;chr&gt;</th><th scope=col>&lt;chr&gt;</th><th scope=col>&lt;chr&gt;</th><th scope=col>&lt;chr&gt;</th><th scope=col>&lt;chr&gt;</th><th scope=col>&lt;chr&gt;</th><th scope=col>&lt;int&gt;</th><th scope=col>&lt;dbl&gt;</th><th scope=col>⋯</th><th scope=col>&lt;chr&gt;</th><th scope=col>&lt;chr&gt;</th><th scope=col>&lt;chr&gt;</th><th scope=col>&lt;chr&gt;</th><th scope=col>&lt;chr&gt;</th><th scope=col>&lt;chr&gt;</th><th scope=col>&lt;chr&gt;</th><th scope=col>&lt;dbl&gt;</th><th scope=col>&lt;dbl&gt;</th><th scope=col>&lt;int&gt;</th></tr>\n",
       "</thead>\n",
       "<tbody>\n",
       "\t<tr><th scope=row>1</th><td>41</td><td>40-44</td><td>All woman sample</td><td>North West   </td><td>Urban</td><td>Higher      </td><td>Able to read whole sentence        </td><td>Poorer</td><td>2</td><td>19</td><td>⋯</td><td>Yes</td><td>Yes</td><td>No</td><td>No </td><td>Yes</td><td>Male  </td><td>Dead </td><td>1</td><td>0</td><td>0</td></tr>\n",
       "\t<tr><th scope=row>2</th><td>29</td><td>25-29</td><td>All woman sample</td><td>South West   </td><td>Urban</td><td>Secondary   </td><td>Able to read only parts of sentence</td><td>Middle</td><td>1</td><td>20</td><td>⋯</td><td>Yes</td><td>Yes</td><td>No</td><td>No </td><td>Yes</td><td>Female</td><td>Alive</td><td>1</td><td>0</td><td>0</td></tr>\n",
       "\t<tr><th scope=row>3</th><td>41</td><td>40-44</td><td>All woman sample</td><td>North Central</td><td>Rural</td><td>Secondary   </td><td>Able to read whole sentence        </td><td>Richer</td><td>1</td><td>18</td><td>⋯</td><td>Yes</td><td>Yes</td><td>No</td><td>Yes</td><td>No </td><td>Male  </td><td>Alive</td><td>1</td><td>0</td><td>0</td></tr>\n",
       "\t<tr><th scope=row>4</th><td>30</td><td>30-34</td><td>All woman sample</td><td>South West   </td><td>Urban</td><td>Secondary   </td><td>Able to read whole sentence        </td><td>Middle</td><td>1</td><td>21</td><td>⋯</td><td>Yes</td><td>Yes</td><td>No</td><td>No </td><td>Yes</td><td>Male  </td><td>Dead </td><td>1</td><td>0</td><td>0</td></tr>\n",
       "\t<tr><th scope=row>5</th><td>30</td><td>30-34</td><td>All woman sample</td><td>North West   </td><td>Rural</td><td>No education</td><td>Cannot read at all                 </td><td>Richer</td><td>4</td><td>15</td><td>⋯</td><td>Yes</td><td>Yes</td><td>No</td><td>No </td><td>No </td><td>Male  </td><td>Alive</td><td>1</td><td>0</td><td>0</td></tr>\n",
       "\t<tr><th scope=row>6</th><td>28</td><td>25-29</td><td>All woman sample</td><td>South West   </td><td>Rural</td><td>Secondary   </td><td>Able to read whole sentence        </td><td>Middle</td><td>2</td><td>25</td><td>⋯</td><td>Yes</td><td>Yes</td><td>No</td><td>No </td><td>No </td><td>Female</td><td>Alive</td><td>1</td><td>0</td><td>0</td></tr>\n",
       "</tbody>\n",
       "</table>\n"
      ],
      "text/latex": [
       "A data.frame: 6 × 31\n",
       "\\begin{tabular}{r|lllllllllllllllllllll}\n",
       "  & V012 & V013 & V020 & V024 & V025 & V106 & V155 & V190A & V208 & V212 & ⋯ & M42E & M451 & M57A & M57E & M57M & MM10 & MM20 & MM90 & MM120 & Maternity\\_mortality\\\\\n",
       "  & <dbl> & <chr> & <chr> & <chr> & <chr> & <chr> & <chr> & <chr> & <int> & <dbl> & ⋯ & <chr> & <chr> & <chr> & <chr> & <chr> & <chr> & <chr> & <dbl> & <dbl> & <int>\\\\\n",
       "\\hline\n",
       "\t1 & 41 & 40-44 & All woman sample & North West    & Urban & Higher       & Able to read whole sentence         & Poorer & 2 & 19 & ⋯ & Yes & Yes & No & No  & Yes & Male   & Dead  & 1 & 0 & 0\\\\\n",
       "\t2 & 29 & 25-29 & All woman sample & South West    & Urban & Secondary    & Able to read only parts of sentence & Middle & 1 & 20 & ⋯ & Yes & Yes & No & No  & Yes & Female & Alive & 1 & 0 & 0\\\\\n",
       "\t3 & 41 & 40-44 & All woman sample & North Central & Rural & Secondary    & Able to read whole sentence         & Richer & 1 & 18 & ⋯ & Yes & Yes & No & Yes & No  & Male   & Alive & 1 & 0 & 0\\\\\n",
       "\t4 & 30 & 30-34 & All woman sample & South West    & Urban & Secondary    & Able to read whole sentence         & Middle & 1 & 21 & ⋯ & Yes & Yes & No & No  & Yes & Male   & Dead  & 1 & 0 & 0\\\\\n",
       "\t5 & 30 & 30-34 & All woman sample & North West    & Rural & No education & Cannot read at all                  & Richer & 4 & 15 & ⋯ & Yes & Yes & No & No  & No  & Male   & Alive & 1 & 0 & 0\\\\\n",
       "\t6 & 28 & 25-29 & All woman sample & South West    & Rural & Secondary    & Able to read whole sentence         & Middle & 2 & 25 & ⋯ & Yes & Yes & No & No  & No  & Female & Alive & 1 & 0 & 0\\\\\n",
       "\\end{tabular}\n"
      ],
      "text/markdown": [
       "\n",
       "A data.frame: 6 × 31\n",
       "\n",
       "| <!--/--> | V012 &lt;dbl&gt; | V013 &lt;chr&gt; | V020 &lt;chr&gt; | V024 &lt;chr&gt; | V025 &lt;chr&gt; | V106 &lt;chr&gt; | V155 &lt;chr&gt; | V190A &lt;chr&gt; | V208 &lt;int&gt; | V212 &lt;dbl&gt; | ⋯ ⋯ | M42E &lt;chr&gt; | M451 &lt;chr&gt; | M57A &lt;chr&gt; | M57E &lt;chr&gt; | M57M &lt;chr&gt; | MM10 &lt;chr&gt; | MM20 &lt;chr&gt; | MM90 &lt;dbl&gt; | MM120 &lt;dbl&gt; | Maternity_mortality &lt;int&gt; |\n",
       "|---|---|---|---|---|---|---|---|---|---|---|---|---|---|---|---|---|---|---|---|---|---|\n",
       "| 1 | 41 | 40-44 | All woman sample | North West    | Urban | Higher       | Able to read whole sentence         | Poorer | 2 | 19 | ⋯ | Yes | Yes | No | No  | Yes | Male   | Dead  | 1 | 0 | 0 |\n",
       "| 2 | 29 | 25-29 | All woman sample | South West    | Urban | Secondary    | Able to read only parts of sentence | Middle | 1 | 20 | ⋯ | Yes | Yes | No | No  | Yes | Female | Alive | 1 | 0 | 0 |\n",
       "| 3 | 41 | 40-44 | All woman sample | North Central | Rural | Secondary    | Able to read whole sentence         | Richer | 1 | 18 | ⋯ | Yes | Yes | No | Yes | No  | Male   | Alive | 1 | 0 | 0 |\n",
       "| 4 | 30 | 30-34 | All woman sample | South West    | Urban | Secondary    | Able to read whole sentence         | Middle | 1 | 21 | ⋯ | Yes | Yes | No | No  | Yes | Male   | Dead  | 1 | 0 | 0 |\n",
       "| 5 | 30 | 30-34 | All woman sample | North West    | Rural | No education | Cannot read at all                  | Richer | 4 | 15 | ⋯ | Yes | Yes | No | No  | No  | Male   | Alive | 1 | 0 | 0 |\n",
       "| 6 | 28 | 25-29 | All woman sample | South West    | Rural | Secondary    | Able to read whole sentence         | Middle | 2 | 25 | ⋯ | Yes | Yes | No | No  | No  | Female | Alive | 1 | 0 | 0 |\n",
       "\n"
      ],
      "text/plain": [
       "  V012 V013  V020             V024          V025  V106        \n",
       "1 41   40-44 All woman sample North West    Urban Higher      \n",
       "2 29   25-29 All woman sample South West    Urban Secondary   \n",
       "3 41   40-44 All woman sample North Central Rural Secondary   \n",
       "4 30   30-34 All woman sample South West    Urban Secondary   \n",
       "5 30   30-34 All woman sample North West    Rural No education\n",
       "6 28   25-29 All woman sample South West    Rural Secondary   \n",
       "  V155                                V190A  V208 V212 ⋯ M42E M451 M57A M57E\n",
       "1 Able to read whole sentence         Poorer 2    19   ⋯ Yes  Yes  No   No  \n",
       "2 Able to read only parts of sentence Middle 1    20   ⋯ Yes  Yes  No   No  \n",
       "3 Able to read whole sentence         Richer 1    18   ⋯ Yes  Yes  No   Yes \n",
       "4 Able to read whole sentence         Middle 1    21   ⋯ Yes  Yes  No   No  \n",
       "5 Cannot read at all                  Richer 4    15   ⋯ Yes  Yes  No   No  \n",
       "6 Able to read whole sentence         Middle 2    25   ⋯ Yes  Yes  No   No  \n",
       "  M57M MM10   MM20  MM90 MM120 Maternity_mortality\n",
       "1 Yes  Male   Dead  1    0     0                  \n",
       "2 Yes  Female Alive 1    0     0                  \n",
       "3 No   Male   Alive 1    0     0                  \n",
       "4 Yes  Male   Dead  1    0     0                  \n",
       "5 No   Male   Alive 1    0     0                  \n",
       "6 No   Female Alive 1    0     0                  "
      ]
     },
     "metadata": {},
     "output_type": "display_data"
    }
   ],
   "source": [
    "#Dataset Imported\n",
    "csv_file <- \"C:/Users/marya/Desktop/project Data/data.csv\" \n",
    "\n",
    "df <- read.csv(csv_file)\n",
    "\n",
    "\n",
    "head(df)\n"
   ]
  },
  {
   "cell_type": "code",
   "execution_count": null,
   "id": "a0bcd929-b6bb-4b97-b6e6-6bd8d5ff639a",
   "metadata": {},
   "outputs": [],
   "source": [
    "The description and names of the columns in the data frame are listed below:\n",
    "V012-Respondent Age\n",
    "V013- Age in 5years Group\n",
    "V020- Ever married\n",
    "V024- Region\n",
    "V025- Type Place of Residence\n",
    "V106-Highest Education Level\n",
    "V212- Age of respondents at first birth\n",
    "M151-Place of Delivery\n",
    "M131- Number of Antenatal visits\n",
    "M141-Timing of the first antenatal\n",
    "M57A- Antenatal\n",
    "M2A1-Prenatal"
   ]
  },
  {
   "cell_type": "code",
   "execution_count": 27,
   "id": "d7f4ae60-09dd-49e5-972b-b33a9150936d",
   "metadata": {},
   "outputs": [
    {
     "data": {
      "image/png": "[encoded data removed]",
      "text/plain": [
       "plot without title"
      ]
     },
     "metadata": {
      "image/png": {
       "height": 420,
       "width": 420
      }
     },
     "output_type": "display_data"
    }
   ],
   "source": [
    "#Exploring the relationship between  different Independent Variables and Maternal Mortality to determine the Risk Factors\n",
    "# Load the necessary libraries\n",
    "library(ggplot2)\n",
    "library(dplyr)\n",
    "\n",
    "# Percentage of Maternity_mortality for place of residence (V025)--Variable 1\n",
    "percentage_df <- df %>%\n",
    "  group_by(V025, Maternity_mortality) %>%\n",
    "  count() %>%\n",
    "  group_by(V025) %>%\n",
    "  mutate(Percentage = n / sum(n) * 100)\n",
    "\n",
    "# Create a bar chart with text labels showing the percentages\n",
    "ggplot(percentage_df, aes(x = V025, y = Percentage, fill = factor(Maternity_mortality))) +\n",
    "  geom_bar(stat = \"identity\", position = \"dodge\") +\n",
    "  geom_text(aes(label = paste0(round(Percentage, 1), \"%\")), position = position_dodge(width = 0.9), vjust = -0.5) +\n",
    "  labs(x = \"Place of Residence\", y = \"Percentage\", fill = \"Maternity Mortality\") +\n",
    "  ggtitle(\"Percentage of Maternal Mortality by Place of Residence\")\n"
   ]
  },
  {
   "cell_type": "code",
   "execution_count": null,
   "id": "05e01ad3-08c2-4847-817d-8fed7ff11ee4",
   "metadata": {},
   "outputs": [],
   "source": [
    "Percentage of maternal mortality by place of residence shows that place of residence is a risk factor for maternal mortality \n",
    "and respondents living in rural area are at more risk of maternal mortality."
   ]
  },
  {
   "cell_type": "code",
   "execution_count": 22,
   "id": "b7666277-cc0f-42be-ab86-71cdf3e41948",
   "metadata": {},
   "outputs": [
    {
     "data": {
      "image/png": "[encoded data removed]",
      "text/plain": [
       "plot without title"
      ]
     },
     "metadata": {
      "image/png": {
       "height": 420,
       "width": 420
      }
     },
     "output_type": "display_data"
    }
   ],
   "source": [
    "# Percentage of Maternity_mortality for Antenatal Care (M57A)---Variable 2\n",
    "percentage_df <- df %>%\n",
    "  group_by(M57A, Maternity_mortality) %>%\n",
    "  count() %>%\n",
    "  group_by(M57A) %>%\n",
    "  mutate(Percentage = n / sum(n) * 100)\n",
    "\n",
    "# Create a bar chart with text labels showing the percentages\n",
    "ggplot(percentage_df, aes(x = M57A, y = Percentage, fill = factor(Maternity_mortality))) +\n",
    "  geom_bar(stat = \"identity\", position = \"dodge\") +\n",
    "  geom_text(aes(label = paste0(round(Percentage, 1), \"%\")), position = position_dodge(width = 0.9), vjust = -0.5) +\n",
    "  labs(x = \"Antenatal Care\", y = \"Percentage\", fill = \"Maternity Mortality\") +\n",
    "  ggtitle(\"Percentage of Maternal Mortality by Antenatal Care\")\n"
   ]
  },
  {
   "cell_type": "code",
   "execution_count": null,
   "id": "d1894cd5-c754-4eb4-a7dd-14b2360f022b",
   "metadata": {},
   "outputs": [],
   "source": [
    "Percentage of maternal mortality by Antenatal care shows that Antenatal care is a risk factor for maternal mortality \n",
    "and respondents who had no antenatal care are at more risk of maternal mortality."
   ]
  },
  {
   "cell_type": "code",
   "execution_count": 24,
   "id": "eafc64aa-8294-4d9a-8275-935704f863e6",
   "metadata": {},
   "outputs": [
    {
     "data": {
      "image/png": "[encoded data removed]",
      "text/plain": [
       "plot without title"
      ]
     },
     "metadata": {
      "image/png": {
       "height": 420,
       "width": 420
      }
     },
     "output_type": "display_data"
    }
   ],
   "source": [
    "# Percentage of Maternity_mortality for Prenatal Care (M2B1)---Variable 3\n",
    "percentage_df <- df %>%\n",
    "  group_by(M2B1, Maternity_mortality) %>%\n",
    "  count() %>%\n",
    "  group_by(M2B1) %>%\n",
    "  mutate(Percentage = n / sum(n) * 100)\n",
    "\n",
    "# Create a bar chart with text labels showing the percentages\n",
    "ggplot(percentage_df, aes(x = M2B1, y = Percentage, fill = factor(Maternity_mortality))) +\n",
    "  geom_bar(stat = \"identity\", position = \"dodge\") +\n",
    "  geom_text(aes(label = paste0(round(Percentage, 1), \"%\")), position = position_dodge(width = 0.9), vjust = -0.5) +\n",
    "  labs(x = \"Prenatal Care\", y = \"Percentage\", fill = \"Maternity Mortality\") +\n",
    "  ggtitle(\"Percentage of Maternal Mortality by prenatal Care\")"
   ]
  },
  {
   "cell_type": "code",
   "execution_count": null,
   "id": "791783cd-ab6e-46ac-970d-a580d1dde351",
   "metadata": {},
   "outputs": [],
   "source": [
    "Percentage of maternal mortality by Prenatal care shows that Prenatal care is a risk factor for maternal mortality \n",
    "and respondents who had no prenatal care are at more risk of maternal mortality."
   ]
  },
  {
   "cell_type": "code",
   "execution_count": 26,
   "id": "61f52a6e-562d-4885-9612-5bdd70a443a8",
   "metadata": {},
   "outputs": [
    {
     "data": {
      "image/png": "[encoded data removed]",
      "text/plain": [
       "plot without title"
      ]
     },
     "metadata": {
      "image/png": {
       "height": 420,
       "width": 420
      }
     },
     "output_type": "display_data"
    }
   ],
   "source": [
    "# Percentage of Maternity_mortality for Level of Education (V106)\n",
    "percentage_df <- df %>%\n",
    "  group_by(V106, Maternity_mortality) %>%\n",
    "  count() %>%\n",
    "  group_by(V106) %>%\n",
    "  mutate(Percentage = n / sum(n) * 100)\n",
    "\n",
    "# Create a bar chart with text labels showing the percentages\n",
    "ggplot(percentage_df, aes(x = V106, y = Percentage, fill = factor(Maternity_mortality))) +\n",
    "  geom_bar(stat = \"identity\", position = \"dodge\") +\n",
    "  geom_text(aes(label = paste0(round(Percentage, 1), \"%\")), position = position_dodge(width = 0.9), vjust = -0.5) +\n",
    "  labs(x = \"Level of Education\", y = \"Percentage\", fill = \"Maternity Mortality\") +\n",
    "  ggtitle(\"Percentage of Maternal Mortality by Level of Education\")"
   ]
  },
  {
   "cell_type": "code",
   "execution_count": null,
   "id": "d48132ae-069a-4d10-aa92-eb75b4cc1124",
   "metadata": {},
   "outputs": [],
   "source": [
    "Percentage of maternal mortality by Level of education shows that level of education is a risk factor of maternal mortality and\n",
    "respondents with primary and secondary are at more risk of maternal mortality than respondents with higher education.\n"
   ]
  },
  {
   "cell_type": "code",
   "execution_count": 39,
   "id": "56eba117-514c-42f2-a0b3-5bbc30e1dcc9",
   "metadata": {},
   "outputs": [
    {
     "data": {
      "image/png": "[encoded data removed]",
      "text/plain": [
       "plot without title"
      ]
     },
     "metadata": {
      "image/png": {
       "height": 420,
       "width": 420
      }
     },
     "output_type": "display_data"
    }
   ],
   "source": [
    "library(ggplot2)\n",
    "\n",
    "# Create the stacked bar chart\n",
    "ggplot(df, aes(x = Maternity_mortality, fill = M151)) +\n",
    "  geom_bar(position = \"stack\") +\n",
    "  labs(x = \"Maternal Mortality\", y = \"Count\", fill = \"M151\") +\n",
    "  ggtitle(\"Stacked Bar Chart: Maternal Mortality by place of delivery\")\n"
   ]
  },
  {
   "cell_type": "code",
   "execution_count": 6,
   "id": "a703fbf0-30b7-47f3-8914-3e05d4c95e0a",
   "metadata": {},
   "outputs": [
    {
     "name": "stderr",
     "output_type": "stream",
     "text": [
      "\u001b[1m\u001b[22m`summarise()` has grouped output by 'Maternity_mortality'. You can override using the `.groups` argument.\n"
     ]
    },
    {
     "data": {
      "image/png": "[encoded data removed]",
      "text/plain": [
       "plot without title"
      ]
     },
     "metadata": {
      "image/png": {
       "height": 420,
       "width": 420
      }
     },
     "output_type": "display_data"
    }
   ],
   "source": [
    "library(ggplot2)\n",
    "library(dplyr)\n",
    "\n",
    "# Precentage visualisation of Maternal Mortality by place of delivery\n",
    "percentage_data <- df %>%\n",
    "  group_by(Maternity_mortality, M151) %>%\n",
    "  summarise(Count = n()) %>%\n",
    "  group_by(Maternity_mortality) %>%\n",
    "  mutate(Percentage = Count / sum(Count) * 100)\n",
    "\n",
    "\n",
    "# Create the stacked bar chart with percentages\n",
    "ggplot(percentage_data, aes(x = factor(Maternity_mortality), y = Percentage, fill = M151)) +\n",
    "  geom_bar(stat = \"identity\") +\n",
    "  geom_text(aes(label = paste(round(Percentage, 2), \"%\")), position = position_stack(vjust = 0.5)) +\n",
    "  labs(x = \"Maternity_mortality\", y = \"Percentage\", fill = \"M151\") +\n",
    "  ggtitle(\"Stacked Bar Chart: Maternal Mortality vs. Place of delivery\")\n"
   ]
  },
  {
   "cell_type": "code",
   "execution_count": null,
   "id": "5278f75b-b53b-40ee-8899-f17ac0fbd22c",
   "metadata": {},
   "outputs": [],
   "source": [
    "Percentage of maternal mortality by place of delivery shows place of delivery is a risk factor for maternal mortality \n",
    "and Government hospitals and respondents home had the highest record for maternal mortality."
   ]
  },
  {
   "cell_type": "code",
   "execution_count": null,
   "id": "f69ad79f-66b4-4c59-a176-c852c397d9af",
   "metadata": {},
   "outputs": [],
   "source": [
    "The identified risk factors for this research are:\n",
    "1 Place of Delivery\n",
    "2 Level of Education\n",
    "3 Antenatal Care\n",
    "4 Prenatal Care\n",
    "5 Timing of First Antenatal Care\n",
    "6 No of Antenatal visits\n",
    "7. Region\n",
    "8. Place of residence"
   ]
  },
  {
   "cell_type": "code",
   "execution_count": null,
   "id": "b3be346d-6b28-4088-9392-f1732d9b85e9",
   "metadata": {},
   "outputs": [],
   "source": [
    "The following section shows the development of models in predicting if respondents are at risk of maternal mortality based on the identified risk factors, \n",
    "3 models were developed and the accuracy of each model is displayed.\n",
    "\n",
    "Accuracy means Accuracy: The proportion of correctly predicted instances to the total number of cases in the dataset.\n",
    "It measures the overall correctness of the model's predictions."
   ]
  },
  {
   "cell_type": "code",
   "execution_count": 47,
   "id": "58905ea5-e3d9-4e40-bc71-c6fdbb9d000c",
   "metadata": {},
   "outputs": [
    {
     "name": "stdout",
     "output_type": "stream",
     "text": [
      "[1] 0.7483772\n"
     ]
    }
   ],
   "source": [
    "#Prediction Model 1-Logistic Regression\n",
    "#Logistic Regression\n",
    "# Define the risk factors to include in the model\n",
    "risk_factors <- c(\"V024\", \"V025\", \"V106\", \"M131\", \"M141\", \"M151\", \"M57A\", \"M57E\", \"M57M\")\n",
    "\n",
    "# Create a formula with the risk factors\n",
    "formula <- as.formula(paste(\"Maternity_mortality ~\", paste(risk_factors, collapse = \"+\")))\n",
    "\n",
    "# Split the data into training and testing sets\n",
    "set.seed(42)\n",
    "train_indices <- sample(nrow(df), 0.7 * nrow(df))\n",
    "train_data <- df[train_indices, ]\n",
    "test_data <- df[-train_indices, ]\n",
    "\n",
    "# Fit a logistic regression model on the training data\n",
    "model <- glm(formula, data = train_data, family = binomial)\n",
    "\n",
    "# Make predictions on the testing data\n",
    "predicted <- predict(model, newdata = test_data, type = \"response\")\n",
    "\n",
    "# Convert predicted probabilities to class labels\n",
    "predicted_class <- ifelse(predicted > 0.5, 1, 0)\n",
    "\n",
    "# Evaluate the model's performance\n",
    "confusion_matrix <- table(test_data$Maternity_mortality, predicted_class)\n",
    "accuracy <- sum(diag(confusion_matrix)) / sum(confusion_matrix)\n",
    "\n",
    "# Print the confusion matrix and accuracy\n",
    "print(accuracy)"
   ]
  },
  {
   "cell_type": "code",
   "execution_count": null,
   "id": "3cb482d1-879a-4ad5-ac51-8d5bec67b69b",
   "metadata": {},
   "outputs": [],
   "source": [
    "The Logistic regression model had an accuracy of 74.8% in predicting respondents who are the risk of Maternal Mortality."
   ]
  },
  {
   "cell_type": "code",
   "execution_count": 64,
   "id": "0fb8cf63-594a-45a4-80cb-a5ef7c5b44db",
   "metadata": {},
   "outputs": [
    {
     "name": "stdout",
     "output_type": "stream",
     "text": [
      "[1] 0.7724322\n"
     ]
    }
   ],
   "source": [
    "# Prediction Model 2-Random Forest\n",
    "library(caret)\n",
    "library(randomForest)\n",
    "\n",
    "# Convert 'Maternity_mortality' to a factor\n",
    "df$Maternity_mortality <- as.factor(df$Maternity_mortality)\n",
    "\n",
    "set.seed(42)  # Set a seed for reproducibility\n",
    "train_indices <- sample(1:nrow(df), 0.7 * nrow(df))  # 70% for training\n",
    "train_data <- df[train_indices, ]\n",
    "test_data <- df[-train_indices, ]\n",
    "\n",
    "# Define the risk factors as a character vector\n",
    "risk_factors <- c(\"V024\", \"V025\", \"V106\", \"M131\", \"M141\", \"M151\", \"M57A\", \"M57E\", \"M57M\")\n",
    "\n",
    "# Train the random forest model\n",
    "rf_model <- randomForest(Maternity_mortality ~ ., data = train_data[, c(risk_factors, \"Maternity_mortality\")], ntree = 100)\n",
    "\n",
    "# Make predictions on the test data\n",
    "predictions <- predict(rf_model, newdata = test_data[, risk_factors])\n",
    "\n",
    "# Evaluate the model\n",
    "# Assuming the target variable is binary (0 or 1)\n",
    "# Convert the predictions to a factor variable with levels \"0\" and \"1\"\n",
    "predictions <- factor(predictions, levels = c(\"0\", \"1\"))\n",
    "\n",
    "# Compute evaluation metrics\n",
    "accuracy <- sum(predictions == test_data$Maternity_mortality) / length(test_data$Maternity_mortality)\n",
    "confusion_matrix <- table(predictions, test_data$Maternity_mortality)\n",
    "\n",
    "print(accuracy)\n"
   ]
  },
  {
   "cell_type": "code",
   "execution_count": null,
   "id": "06cc2f05-d8a4-40a9-9648-9e86633e1a81",
   "metadata": {},
   "outputs": [],
   "source": [
    "The Random forest model had an accuracy of 77.2% in predicting respondents who are the risk of maternal Mortality"
   ]
  },
  {
   "cell_type": "code",
   "execution_count": 67,
   "id": "b25b798e-b04a-45df-87c5-becbb7666bd8",
   "metadata": {},
   "outputs": [
    {
     "name": "stdout",
     "output_type": "stream",
     "text": [
      "CART \n",
      "\n",
      "8730 samples\n",
      "  10 predictor\n",
      "   2 classes: '0', '1' \n",
      "\n",
      "No pre-processing\n",
      "Resampling: Cross-Validated (10 fold) \n",
      "Summary of sample sizes: 7858, 7857, 7858, 7857, 7857, 7857, ... \n",
      "Resampling results across tuning parameters:\n",
      "\n",
      "  cp          Accuracy   Kappa     \n",
      "  0.04381443  0.6423918  0.19916359\n",
      "  0.04810997  0.6262351  0.14422416\n",
      "  0.06844215  0.6076754  0.03418634\n",
      "\n",
      "Accuracy was used to select the optimal model using the largest value.\n",
      "The final value used for the model was cp = 0.04381443.\n",
      "[1] 0.6456663\n"
     ]
    }
   ],
   "source": [
    "#Prediction Model 3-Decision Tree\n",
    "# Load the necessary libraries\n",
    "library(caret)\n",
    "library(ggplot2)\n",
    "library(lattice)\n",
    "library(rpart)\n",
    "\n",
    "# Set the number of folds for cross-validation\n",
    "k <- 10\n",
    "\n",
    "# Create the control parameters for cross-validation\n",
    "ctrl <- trainControl(method = \"cv\", number = k)\n",
    "\n",
    "# Subset the data with the risk factors identified\n",
    "risk_factors <- c(\"V024\", \"V025\", \"V106\", \"M2A1\", \"M131\", \"M141\", \"M151\", \"M57A\", \"M57E\", \"M57M\")\n",
    "data_subset <- df[, c(\"Maternity_mortality\", risk_factors)]\n",
    "\n",
    "# Train the decision tree model using cross-validation\n",
    "dt_model <- train(Maternity_mortality ~ ., data = data_subset, method = \"rpart\", trControl = ctrl)\n",
    "\n",
    "# Print the model\n",
    "print(dt_model)\n",
    "\n",
    "# Make predictions on the test data\n",
    "predictions <- predict(dt_model, new data = test_data[, risk_factors])\n",
    "\n",
    "# Evaluate the model\n",
    "confusion_matrix <- table(predictions, test_data$Maternity_mortality)\n",
    "accuracy <- sum(diag(confusion_matrix)) / sum(confusion_matrix)\n",
    "\n",
    "# Print the evaluation metrics\n",
    "print(accuracy)\n"
   ]
  },
  {
   "cell_type": "code",
   "execution_count": null,
   "id": "e64e8066-ddeb-48eb-8ae8-629cb1a7cc6a",
   "metadata": {},
   "outputs": [],
   "source": [
    "The Decision Tree model had an accuracy of 64.5% in predicting respondents who are the risk of maternal Mortality.\n",
    "\n",
    "\n",
    "Here is the order of Importance of the risk factors from the most significant to less significant in impacting the models:\n",
    "1. Number of Antenatal visits\n",
    "2. Region\n",
    "3. Timing of first antenatal check\n",
    "4. Place of Delivery\n",
    "5. Level of Education\n",
    "6. Place of residence\n",
    "7. Antenatal care\n",
    "8. Prenatal Care"
   ]
  },
  {
   "cell_type": "code",
   "execution_count": 1,
   "id": "84b783bd-4736-4666-b0bc-8389bdf9cbf3",
   "metadata": {},
   "outputs": [
    {
     "data": {
      "image/png": "[encoded data removed]",
      "text/plain": [
       "plot without title"
      ]
     },
     "metadata": {
      "image/png": {
       "height": 420,
       "width": 420
      }
     },
     "output_type": "display_data"
    }
   ],
   "source": [
    "# Visualisation of the three prediction model accuracy\n",
    "model_names <- c(\"Logistic Regression\", \"Random Forest\", \"Decision Tree\")\n",
    "accuracy_values <- c(74.83, 77.24, 64.5)\n",
    "accuracy_data <- data.frame(Model = model_names, Accuracy = accuracy_values)\n",
    "\n",
    "# Create a bar plot to visualize the accuracy of the models\n",
    "library(ggplot2)\n",
    "\n",
    "ggplot(accuracy_data, aes(x = Model, y = Accuracy)) +\n",
    "  geom_bar(stat = \"identity\", fill = \"skyblue\", color = \"black\") +\n",
    "  labs(title = \"Accuracy of Predictive Models\",\n",
    "       x = \"Model\",\n",
    "       y = \"Accuracy\") +\n",
    "  theme(axis.text.x = element_text(angle = 45, hjust = 1))\n"
   ]
  },
  {
   "cell_type": "code",
   "execution_count": null,
   "id": "a7d52a5b-15c7-4bc6-ac9d-62514f05f26f",
   "metadata": {},
   "outputs": [],
   "source": [
    "Based on the accuracy percentages of the models, the best  model for predicting people who are at risk of maternal mortality is the Random Forest model."
   ]
  },
  {
   "cell_type": "code",
   "execution_count": null,
   "id": "248e3433-aebc-4096-8149-07bc8de2ee5e",
   "metadata": {},
   "outputs": [],
   "source": [
    "Thank you for your time\n",
    "Please close the tab and answer the survey questions."
   ]
  }
 ],
 "metadata": {
  "kernelspec": {
   "display_name": "R",
   "language": "R",
   "name": "ir"
  },
  "language_info": {
   "codemirror_mode": "r",
   "file_extension": ".r",
   "mimetype": "text/x-r-source",
   "name": "R",
   "pygments_lexer": "r",
   "version": "4.3.0"
  }
 },
 "nbformat": 4,
 "nbformat_minor": 5
}
